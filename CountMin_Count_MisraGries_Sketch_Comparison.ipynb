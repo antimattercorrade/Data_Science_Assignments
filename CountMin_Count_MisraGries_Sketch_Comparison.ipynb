{
  "nbformat": 4,
  "nbformat_minor": 0,
  "metadata": {
    "colab": {
      "name": "18110091_Q4_A2.ipynb",
      "provenance": [],
      "collapsed_sections": []
    },
    "kernelspec": {
      "name": "python3",
      "display_name": "Python 3"
    },
    "language_info": {
      "name": "python"
    }
  },
  "cells": [
    {
      "cell_type": "markdown",
      "metadata": {
        "id": "zC3cy15AM38h"
      },
      "source": [
        "**Installing Libraries**"
      ]
    },
    {
      "cell_type": "code",
      "metadata": {
        "id": "i9QsZJqXCPFc",
        "colab": {
          "base_uri": "https://localhost:8080/"
        },
        "outputId": "650137e8-e513-4c06-eb99-eb051c418789"
      },
      "source": [
        "!pip install mmh3"
      ],
      "execution_count": null,
      "outputs": [
        {
          "output_type": "stream",
          "text": [
            "Collecting mmh3\n",
            "\u001b[?25l  Downloading https://files.pythonhosted.org/packages/d9/46/0e568554c7f70ebc3de0c2b2effd3f7b25e66e0e4e0eacaeb7c9145949f2/mmh3-3.0.0-cp37-cp37m-manylinux2010_x86_64.whl (50kB)\n",
            "\r\u001b[K     |██████▍                         | 10kB 10.5MB/s eta 0:00:01\r\u001b[K     |████████████▉                   | 20kB 15.3MB/s eta 0:00:01\r\u001b[K     |███████████████████▎            | 30kB 7.8MB/s eta 0:00:01\r\u001b[K     |█████████████████████████▊      | 40kB 6.5MB/s eta 0:00:01\r\u001b[K     |████████████████████████████████| 51kB 2.5MB/s \n",
            "\u001b[?25hInstalling collected packages: mmh3\n",
            "Successfully installed mmh3-3.0.0\n"
          ],
          "name": "stdout"
        }
      ]
    },
    {
      "cell_type": "markdown",
      "metadata": {
        "id": "EQ0Vs2JxMvPu"
      },
      "source": [
        "**Importing Modules**"
      ]
    },
    {
      "cell_type": "code",
      "metadata": {
        "id": "pLJ1emlP0gtZ"
      },
      "source": [
        "import pandas as pd\n",
        "from IPython.display import display, HTML\n",
        "import random\n",
        "import statistics\n",
        "import mmh3\n",
        "import numpy as np\n",
        "import sys\n",
        "from collections import defaultdict\n",
        "import matplotlib.pyplot as plt"
      ],
      "execution_count": null,
      "outputs": []
    },
    {
      "cell_type": "markdown",
      "metadata": {
        "id": "ZEnRLmt2NPq2"
      },
      "source": [
        "**Importing Data** <br>\n",
        "We first import the training data for the frequency of words in given documents. Then a data frame is created by splitting the values into columns and deleting the first column for docID. A new dictionary is created to store the frequencies of each word appearing in all documents."
      ]
    },
    {
      "cell_type": "code",
      "metadata": {
        "id": "A-rjyIMm0iYl"
      },
      "source": [
        "train_path = 'https://raw.githubusercontent.com/kushagra-18110091/http_test/main/train.data'\n",
        "data = pd.read_csv(train_path)\n",
        "data = data.iloc[:, 0].str.split(pat=\" \", expand=True)\n",
        "data = data.drop(data.columns[[0]], axis=1)\n",
        "\n",
        "uniq_index = pd.unique(data.iloc[:,0])\n",
        "result = {}\n",
        "\n",
        "for i in range(len(uniq_index)):\n",
        "  result[uniq_index[i]] = int(0)\n",
        "\n",
        "for i in range(len(data)):\n",
        "  result[data.iloc[i,0]] = int(result[data.iloc[i,0]]) + int(data.iloc[i,1])\n",
        "\n",
        "data.columns = ['wordIdx', 'count']"
      ],
      "execution_count": null,
      "outputs": []
    },
    {
      "cell_type": "markdown",
      "metadata": {
        "id": "0rg1Y46PObbW"
      },
      "source": [
        "**Creating Query Set** <br>\n",
        "We create a data frame for query set by sorting the previously created dictionary in descending order of frequencies and then sample 100 entries from it."
      ]
    },
    {
      "cell_type": "code",
      "metadata": {
        "id": "Ppd5AiQXyVWz"
      },
      "source": [
        "query = pd.DataFrame(result.items(), columns=['WordIdx', 'Count'])\n",
        "query = query.sort_values('Count', ascending=False)\n",
        "query = query.iloc[0:1000,:]\n",
        "query = query.sample(n=100)\n",
        "\n",
        "query = query.to_numpy()\n",
        "data = data.to_numpy()"
      ],
      "execution_count": null,
      "outputs": []
    },
    {
      "cell_type": "markdown",
      "metadata": {
        "id": "NVschOD0O-Yr"
      },
      "source": [
        "**Count Min Sketch** <br>\n",
        "The class contains three functions `__init__`, `addCM` and `queryCM`. <br><ul>\n",
        "<li> The `__init__` function initialzes the `w` and `d` values and creates an array to store the frequencies calculated by the count min sketch. <br> \n",
        "<li> The `addCM` function adds the element, count times, to the array by calculating the array index using hash values.\n",
        "<li> The `queryCM` function queries the sketch to return the frequency computed by the sketch for an element. "
      ]
    },
    {
      "cell_type": "code",
      "metadata": {
        "id": "nxsX8a2FGVY6"
      },
      "source": [
        "class CMSketch:\n",
        "    def __init__(self,w,d):\n",
        "        self.w = w\n",
        "        self.d = d\n",
        "        self.arrayCM = np.zeros([self.w, self.d],dtype=int)\n",
        "        self.seed_hi = np.random.randint(d, size = w)\n",
        "\n",
        "    def addCM(self,id,count):\n",
        "        for i in range(self.w):\n",
        "            hi = mmh3.hash(id,self.seed_hi[i])%(self.d)\n",
        "            self.arrayCM[i][hi] += count\n",
        "        return\n",
        "\n",
        "    def queryCM(self,id):\n",
        "        countArray = []\n",
        "        for i in range(self.w):\n",
        "            hi = mmh3.hash(id,self.seed_hi[i])%(self.d)\n",
        "            countArray.append(self.arrayCM[i][hi])\n",
        "        return min(countArray)\n"
      ],
      "execution_count": null,
      "outputs": []
    },
    {
      "cell_type": "markdown",
      "metadata": {
        "id": "J1ZvxMAcR8iI"
      },
      "source": [
        "**Querying Count Min Sketch** <br>\n",
        "For each value of `d`, Count Min Sketch is initialized and the values from the data stream are added. The average relative error is then calculated by querying the sketch."
      ]
    },
    {
      "cell_type": "code",
      "metadata": {
        "id": "wXQVhrU0RHS1"
      },
      "source": [
        "CMError = []\n",
        "\n",
        "for d in [20,40,100,200,400]:\n",
        "  CMS = CMSketch(5,d)\n",
        "\n",
        "  for i in range(len(data)):\n",
        "    CMS.addCM(data[i][0],int(data[i][1]))\n",
        "\n",
        "  sum  = 0\n",
        "\n",
        "  for i in range(100):\n",
        "    sum += abs(CMS.queryCM(query[i][0]) - query[i][1])/query[i][1]\n",
        "\n",
        "  CMError.append(sum/100)"
      ],
      "execution_count": null,
      "outputs": []
    },
    {
      "cell_type": "markdown",
      "metadata": {
        "id": "rNe1o-HSUGk9"
      },
      "source": [
        "**Count Sketch** <br>\n",
        "The class contains three functions `__init__`, `addCS` and `queryCS`. <br><ul>\n",
        "<li> The `__init__` function initialzes the `w` and `d` values and creates an array to store the frequencies calculated by the count sketch. <br> \n",
        "<li> The `addCS` function adds the element, count times, to the array by calculating the array index using hash values and sign value for each index and element.\n",
        "<li> The `queryCS` function queries the sketch to return the frequency computed by the sketch for an element. "
      ]
    },
    {
      "cell_type": "code",
      "metadata": {
        "id": "wDhNFBJESrks"
      },
      "source": [
        "class CSketch:\n",
        "    def __init__(self,w,d):\n",
        "        self.w = w\n",
        "        self.d = d\n",
        "        self.arrayCS = np.zeros([self.w, self.d],dtype=int)\n",
        "        self.seed_hi = np.random.randint(d, size = w)\n",
        "        self.seed_gi = np.random.randint(d, size = w)\n",
        "\n",
        "    def addCS(self,id,count):\n",
        "        for i in range(self.w):\n",
        "            hi = mmh3.hash(id,self.seed_hi[i])%(self.d)\n",
        "            sign = 1\n",
        "            if(mmh3.hash(id,self.seed_gi[i])%2 == 0):\n",
        "                sign = -1\n",
        "            self.arrayCS[i][hi]+= count*sign\n",
        "        return\n",
        "\n",
        "    def queryCS(self,id):\n",
        "        countArray = []\n",
        "        for i in range(self.w):\n",
        "            hi = mmh3.hash(id,self.seed_hi[i])%(self.d)\n",
        "            sign = 1\n",
        "            if(mmh3.hash(id,self.seed_gi[i])%2 == 0):\n",
        "                sign = -1\n",
        "            countArray.append(sign*self.arrayCS[i][hi])\n",
        "        return statistics.median(countArray)"
      ],
      "execution_count": null,
      "outputs": []
    },
    {
      "cell_type": "markdown",
      "metadata": {
        "id": "93_QPdqRVckd"
      },
      "source": [
        "**Querying Count Sketch** <br>\n",
        "For each value of `d`, Count Sketch is initialized and the values from the data stream are added. The average relative error is then calculated by querying the sketch."
      ]
    },
    {
      "cell_type": "code",
      "metadata": {
        "id": "cnO0YwJCRoDs"
      },
      "source": [
        "CSError = []\n",
        "\n",
        "for d in [20,40,100,200,400]:\n",
        "  CS = CSketch(5,d)\n",
        "\n",
        "  for i in range(len(data)):\n",
        "    CS.addCS(data[i][0],int(data[i][1]))\n",
        "\n",
        "  sum = 0\n",
        "  for i in range(100):\n",
        "    sum += abs(CS.queryCS(query[i][0]) - query[i][1])/query[i][1]\n",
        "\n",
        "  CSError.append(sum/100)"
      ],
      "execution_count": null,
      "outputs": []
    },
    {
      "cell_type": "markdown",
      "metadata": {
        "id": "vpf2xzIpWKkT"
      },
      "source": [
        "**Misra Gries Sketch** <br>\n",
        "The class contains three functions `__init__`, `addMG` and `queryMG`. <br><ul>\n",
        "<li> The `__init__` function initialzes the `K` value and creates a dictionary to store the frequencies calculated by the misra gries sketch. <br> \n",
        "<li> The `addMG` function adds the element with count, to the dictionary if not present. Otherwise the count of the element is increased count times. If the number of elements in dictionary are greater than `K`, the count of each element is decreased count times and all elements with frequencies less than 0 are deleted.\n",
        "<li> The `queryMG` function queries the sketch to return the frequency computed by the sketch for an element. "
      ]
    },
    {
      "cell_type": "code",
      "metadata": {
        "id": "xU2uQc7yaSC2"
      },
      "source": [
        "class MGSketch:\n",
        "    def __init__(self,K):\n",
        "        self.K = K\n",
        "        self.countMG = defaultdict(int)\n",
        "\n",
        "    def addMG(self,id,count):\n",
        "      if len(self.countMG.keys()) < self.K:\n",
        "          self.countMG[id] += count\n",
        "        \n",
        "      elif id in self.countMG:\n",
        "          self.countMG[id] += count\n",
        "\n",
        "      else:\n",
        "          for key in list(self.countMG.keys()):\n",
        "              self.countMG[key] -= count\n",
        "              if self.countMG[key] <= 0:\n",
        "                del self.countMG[key]\n",
        "      return\n",
        "\n",
        "    def queryMG(self,id):\n",
        "        if(self.countMG[id] != 0):    \n",
        "          return self.countMG[id]\n",
        "        else:\n",
        "          return 0"
      ],
      "execution_count": null,
      "outputs": []
    },
    {
      "cell_type": "markdown",
      "metadata": {
        "id": "GTHInQQ9W_K4"
      },
      "source": [
        "**Querying Misra Gries Sketch** <br>\n",
        "For each value of `K`, Misra Gries Sketch is initialized and the values from the data stream are added. The average relative error is then calculated by querying the sketch."
      ]
    },
    {
      "cell_type": "code",
      "metadata": {
        "id": "oVIRS5ZBRwn4"
      },
      "source": [
        "MGError = []\n",
        "\n",
        "for K in [100,200,500,1000,2000]:\n",
        "  MG = MGSketch(K)\n",
        "\n",
        "  for i in range(len(data)):\n",
        "    MG.addMG(data[i][0],int(data[i][1]))\n",
        "\n",
        "  sum = 0\n",
        "\n",
        "  for i in range(100):\n",
        "    sum += abs(MG.queryMG(query[i][0]) - query[i][1])/query[i][1]\n",
        "  \n",
        "  MGError.append(sum/100)"
      ],
      "execution_count": null,
      "outputs": []
    },
    {
      "cell_type": "markdown",
      "metadata": {
        "id": "le_T_m9siz2W"
      },
      "source": [
        "**Calculating Relative Errors for each K**<br>"
      ]
    },
    {
      "cell_type": "code",
      "metadata": {
        "colab": {
          "base_uri": "https://localhost:8080/",
          "height": 212
        },
        "id": "rtRyjWtRQh-7",
        "outputId": "2a18804e-98e4-4f27-af5e-56514db9dfc5"
      },
      "source": [
        "result = []\n",
        "\n",
        "for i in range(0,5):\n",
        "  errors = []\n",
        "  errors.append(CMError[i])\n",
        "  errors.append(CSError[i])\n",
        "  errors.append(MGError[i])\n",
        "  result.append(errors)\n",
        "\n",
        "print(\"Relative errors for the sketches for K values in [100,200,400,1000,2000]\")\n",
        "result = pd.DataFrame(result, columns=[\"Count Min Sketch\",\"Count Sketch\",\"Misra Gries Sketch\"])\n",
        "display(HTML(result.to_html()))"
      ],
      "execution_count": null,
      "outputs": [
        {
          "output_type": "stream",
          "text": [
            "Relative errors for the sketches for K values in [100,200,400,1000,2000]\n"
          ],
          "name": "stdout"
        },
        {
          "output_type": "display_data",
          "data": {
            "text/html": [
              "<table border=\"1\" class=\"dataframe\">\n",
              "  <thead>\n",
              "    <tr style=\"text-align: right;\">\n",
              "      <th></th>\n",
              "      <th>Count Min Sketch</th>\n",
              "      <th>Count Sketch</th>\n",
              "      <th>Misra Gries Sketch</th>\n",
              "    </tr>\n",
              "  </thead>\n",
              "  <tbody>\n",
              "    <tr>\n",
              "      <th>0</th>\n",
              "      <td>148.678827</td>\n",
              "      <td>63.212568</td>\n",
              "      <td>0.998396</td>\n",
              "    </tr>\n",
              "    <tr>\n",
              "      <th>1</th>\n",
              "      <td>62.666012</td>\n",
              "      <td>9.456200</td>\n",
              "      <td>0.991614</td>\n",
              "    </tr>\n",
              "    <tr>\n",
              "      <th>2</th>\n",
              "      <td>21.014037</td>\n",
              "      <td>4.712923</td>\n",
              "      <td>0.953058</td>\n",
              "    </tr>\n",
              "    <tr>\n",
              "      <th>3</th>\n",
              "      <td>9.017712</td>\n",
              "      <td>2.291099</td>\n",
              "      <td>0.887774</td>\n",
              "    </tr>\n",
              "    <tr>\n",
              "      <th>4</th>\n",
              "      <td>3.805000</td>\n",
              "      <td>1.228228</td>\n",
              "      <td>0.754445</td>\n",
              "    </tr>\n",
              "  </tbody>\n",
              "</table>"
            ],
            "text/plain": [
              "<IPython.core.display.HTML object>"
            ]
          },
          "metadata": {
            "tags": []
          }
        }
      ]
    },
    {
      "cell_type": "markdown",
      "metadata": {
        "id": "QscG5BvFjJuI"
      },
      "source": [
        "**Plotting the Results**<br>"
      ]
    },
    {
      "cell_type": "code",
      "metadata": {
        "colab": {
          "base_uri": "https://localhost:8080/",
          "height": 594
        },
        "id": "bfIQP5Hp6fIe",
        "outputId": "d955a75d-58fc-454b-a06d-7cdfb681e7f2"
      },
      "source": [
        "x = [100,200,500,1000,2000]\n",
        "\n",
        "plt.figure(dpi=150)\n",
        "plt.plot(x, CMError, label = \"Count Min Sketch\")\n",
        "plt.plot(x, CSError, label = \"Count Sketch\")\n",
        "plt.plot(x, MGError, label = \"Misra Gries Sketch\")\n",
        "\n",
        "plt.xlabel('K')\n",
        "plt.ylabel('Relative Error')\n",
        "  \n",
        "plt.title('Relative Error for Sketches')\n",
        "plt.legend()\n",
        "  \n",
        "plt.show()"
      ],
      "execution_count": null,
      "outputs": [
        {
          "output_type": "display_data",
          "data": {
            "image/png": "[encoded data removed]",
            "text/plain": [
              "<Figure size 900x600 with 1 Axes>"
            ]
          },
          "metadata": {
            "tags": [],
            "needs_background": "light"
          }
        }
      ]
    },
    {
      "cell_type": "markdown",
      "metadata": {
        "id": "XI-ZjDT1jbCN"
      },
      "source": [
        "**Binary Search Function**<br> "
      ]
    },
    {
      "cell_type": "code",
      "metadata": {
        "id": "X3ZdjUJs8BaK"
      },
      "source": [
        "def find_error(sketch):\n",
        "  low = 1000\n",
        "  high = 250000\n",
        "  while(low <= high):\n",
        "    mid = low + (high - low)/2\n",
        "    error = 0\n",
        "\n",
        "    if (sketch == \"CMS\"):\n",
        "      CMS = CMSketch(5,int(mid/5))\n",
        "\n",
        "      for i in range(len(data)):\n",
        "        CMS.addCM(data[i][0],int(data[i][1]))\n",
        "\n",
        "      for i in range(100):\n",
        "        error += abs(CMS.queryCM(query[i][0]) - query[i][1])/query[i][1]\n",
        "\n",
        "    elif (sketch == \"CS\"):\n",
        "      CS = CSketch(5,int(mid/5))\n",
        "\n",
        "      for i in range(len(data)):\n",
        "        CS.addCS(data[i][0],int(data[i][1]))\n",
        "\n",
        "      for i in range(100):\n",
        "        error += abs(CS.queryCS(query[i][0]) - query[i][1])/query[i][1]\n",
        "\n",
        "    elif (sketch == \"MG\"):\n",
        "      MG = MGSketch(mid)\n",
        "\n",
        "      for i in range(len(data)):\n",
        "        MG.addMG(data[i][0],int(data[i][1]))\n",
        "\n",
        "      for i in range(100):\n",
        "        error += abs(MG.queryMG(query[i][0]) - query[i][1])/query[i][1]\n",
        "\n",
        "    if (error <= 1.5 and error >= 0.85):\n",
        "      return mid\n",
        "    elif (error > 1.05):\n",
        "      low = mid + 1\n",
        "    elif (error < 0.85):\n",
        "      high = mid - 1"
      ],
      "execution_count": null,
      "outputs": []
    },
    {
      "cell_type": "markdown",
      "metadata": {
        "id": "ZA3--ZPmjj8H"
      },
      "source": [
        "**Calculating Minimum K for less than 1% Error**<br>"
      ]
    },
    {
      "cell_type": "code",
      "metadata": {
        "id": "SUobOnrD8xzn",
        "colab": {
          "base_uri": "https://localhost:8080/",
          "height": 94
        },
        "outputId": "8293cd7c-66ff-4fe1-a97b-063219054250"
      },
      "source": [
        "error_values = []\n",
        "result = []\n",
        "error_values.append(find_error(\"CMS\"))\n",
        "error_values.append(find_error(\"CS\"))\n",
        "error_values.append(find_error(\"MG\"))\n",
        "result.append(error_values)\n",
        "\n",
        "print(\"K values such that the relative error is less than 1%\")\n",
        "result = pd.DataFrame(result, columns=[\"Count Min Sketch\",\"Count Sketch\",\"Misra Gries Sketch\"])\n",
        "display(HTML(result.to_html()))"
      ],
      "execution_count": null,
      "outputs": [
        {
          "output_type": "stream",
          "text": [
            "K values such that the relative error is less than 1%\n"
          ],
          "name": "stdout"
        },
        {
          "output_type": "display_data",
          "data": {
            "text/html": [
              "<table border=\"1\" class=\"dataframe\">\n",
              "  <thead>\n",
              "    <tr style=\"text-align: right;\">\n",
              "      <th></th>\n",
              "      <th>Count Min Sketch</th>\n",
              "      <th>Count Sketch</th>\n",
              "      <th>Misra Gries Sketch</th>\n",
              "    </tr>\n",
              "  </thead>\n",
              "  <tbody>\n",
              "    <tr>\n",
              "      <th>0</th>\n",
              "      <td>78812.125</td>\n",
              "      <td>125500.0</td>\n",
              "      <td>32124.25</td>\n",
              "    </tr>\n",
              "  </tbody>\n",
              "</table>"
            ],
            "text/plain": [
              "<IPython.core.display.HTML object>"
            ]
          },
          "metadata": {
            "tags": []
          }
        }
      ]
    }
  ]
}