{
  "nbformat": 4,
  "nbformat_minor": 0,
  "metadata": {
    "colab": {
      "name": "18110091_Q5_A2.ipynb",
      "provenance": [],
      "collapsed_sections": []
    },
    "kernelspec": {
      "name": "python3",
      "display_name": "Python 3"
    },
    "language_info": {
      "name": "python"
    }
  },
  "cells": [
    {
      "cell_type": "markdown",
      "metadata": {
        "id": "rUyS5Dwrigd5"
      },
      "source": [
        "**Importing Modules**"
      ]
    },
    {
      "cell_type": "code",
      "metadata": {
        "id": "NkTytNPexflZ"
      },
      "source": [
        "import numpy as np\n",
        "import pandas as pd\n",
        "import random\n",
        "import csv\n",
        "import requests\n",
        "from IPython.display import display\n",
        "import matplotlib.pyplot as plt\n",
        "from scipy.optimize import curve_fit"
      ],
      "execution_count": null,
      "outputs": []
    },
    {
      "cell_type": "markdown",
      "metadata": {
        "id": "zfhu0Tiwij7n"
      },
      "source": [
        "**Lowrank Function**<br>\n",
        "Function to calculate the low rank approximation of the input matrix."
      ]
    },
    {
      "cell_type": "code",
      "metadata": {
        "id": "5mVLigYcx3x_"
      },
      "source": [
        "def lowrank(U,S,V,k):\n",
        "  UR = U[:, :k]\n",
        "  SR = np.diag(S[:k])\n",
        "  VR = V[:k, :]\n",
        "  result = np.dot(np.dot(UR,SR), VR)\n",
        "\n",
        "  return result"
      ],
      "execution_count": null,
      "outputs": []
    },
    {
      "cell_type": "markdown",
      "metadata": {
        "id": "JnzQeb7Bu3Bo"
      },
      "source": [
        "**Importing Ratings Data**<br>\n",
        "The ratings data is imported and the aggregate ratings for each movie and user are stored as an array in separate dictionaries."
      ]
    },
    {
      "cell_type": "code",
      "metadata": {
        "id": "QgsEOr_3c8aD"
      },
      "source": [
        "uniq_movId = {}\n",
        "count = 0\n",
        "rating = []\n",
        "movie_avg = {}\n",
        "user_avg = {}\n",
        "\n",
        "url = 'https://raw.githubusercontent.com/kushagra-18110091/http_test/main/ratings_small.csv'\n",
        "ratings = requests.get(url, allow_redirects=True)\n",
        "open('ratings.csv', 'wb').write(ratings.content)\n",
        "\n",
        "file = open('ratings.csv', 'r')\n",
        "CSVFile = csv.reader(file)\n",
        "next(CSVFile, None)\n",
        "userId = 1\n",
        "\n",
        "for row in CSVFile:\n",
        "    if(row[0] not in user_avg):\n",
        "        user_avg[row[0]] = [float(row[2]),1]\n",
        "    else :\n",
        "        user_avg[row[0]][0] += float(row[2])\n",
        "        user_avg[row[0]][1] += 1\n",
        "\n",
        "    userId = max(userId,int(row[0]))\n",
        "    if(row[1] not in uniq_movId):\n",
        "        uniq_movId[row[1]] = count \n",
        "        count += 1\n",
        "        movie_avg[row[1]] = [float(row[2]),1]\n",
        "    else:\n",
        "        movie_avg[row[1]][0] += float(row[2])\n",
        "        movie_avg[row[1]][1] += 1\n",
        "\n",
        "    rating.append(row[:-1]) \n"
      ],
      "execution_count": null,
      "outputs": []
    },
    {
      "cell_type": "markdown",
      "metadata": {
        "id": "c98xpNkgg3T9"
      },
      "source": [
        "**Creating Test and Train Data**<br>\n",
        "The test and training data are create from the rating array and all non present entries are replaced by 2.5 assuming that ratings are between 1-5."
      ]
    },
    {
      "cell_type": "code",
      "metadata": {
        "id": "gucjqkKL4xBF"
      },
      "source": [
        "rows, cols = (userId+1, len(uniq_movId))\n",
        "rating_array =  [[2.5]*(cols) for i in range(rows)]\n",
        "\n",
        "random.shuffle(rating)\n",
        "train = rating[len(rating)//5 :]\n",
        "test = rating[: len(rating)//5]\n",
        "\n",
        "for i in range(len(train)):\n",
        "  rating_array[int(train[i][0])][int(uniq_movId[train[i][1]])] = float(train[i][2])\n"
      ],
      "execution_count": null,
      "outputs": []
    },
    {
      "cell_type": "markdown",
      "metadata": {
        "id": "VV9HB3SRhKVd"
      },
      "source": [
        "**Calculating SVD**<br>\n",
        "The SVD for the rating array is calculated and stored in U, S and V matrices."
      ]
    },
    {
      "cell_type": "code",
      "metadata": {
        "id": "jRmlY1baOs6r"
      },
      "source": [
        "U, S, V = np.linalg.svd(rating_array, full_matrices=False)"
      ],
      "execution_count": null,
      "outputs": []
    },
    {
      "cell_type": "markdown",
      "metadata": {
        "id": "OaNic340hZUh"
      },
      "source": [
        "**Calculating Low Rank Approximation**<br>\n",
        "The low rank approximation of the matrix is calculated using U, S and V matrices calculated above. The squared error for each entry is then calculated using the test data. "
      ]
    },
    {
      "cell_type": "code",
      "metadata": {
        "id": "MTMjtBzMlmMo",
        "colab": {
          "base_uri": "https://localhost:8080/"
        },
        "outputId": "74b0efe3-4556-446b-9c2f-cb56d777aef6"
      },
      "source": [
        "lowrank_error = []\n",
        "\n",
        "for k in range(1,100):\n",
        "  rating_lowrank = lowrank(U,S,V,k)\n",
        "  error = 0\n",
        "  for i in range(len(test)):\n",
        "    error += (float(test[i][2]) - rating_lowrank[int(test[i][0])][int(uniq_movId[test[i][1]])]) ** 2\n",
        "\n",
        "  lowrank_error.append(error)\n",
        "\n",
        "print(lowrank_error)"
      ],
      "execution_count": null,
      "outputs": [
        {
          "output_type": "stream",
          "text": [
            "[36280.54908803819, 33443.92557016882, 32312.86795361154, 31601.034609112237, 31423.618939958553, 31412.29257847922, 31330.45919243365, 31056.94095263504, 31002.564698731425, 30912.140209561072, 30975.77180374384, 31012.16233363711, 31098.733327982976, 31161.0255754459, 31183.528029484325, 31304.11804753768, 31436.704276727633, 31479.426927708624, 31557.016924568867, 31620.59774063933, 31689.825449631808, 31774.645903377383, 31828.150231115655, 31922.75307301092, 31983.079331865592, 32035.21853387761, 32099.074889659125, 32143.87204579086, 32208.846305528295, 32276.95805362152, 32356.638838121457, 32433.801595751556, 32516.802821418776, 32626.3652763992, 32680.161118102616, 32825.48223034625, 32902.695223682655, 32989.51980274846, 33044.76271683718, 33105.26491259393, 33217.31528045608, 33329.472802816934, 33423.66996847748, 33513.17057172596, 33562.54614153261, 33643.470200334654, 33740.24840741875, 33809.47756175662, 33864.06740071913, 33936.886694751316, 34003.94350514147, 34093.54949777099, 34138.980384543094, 34203.17431025335, 34302.575819019396, 34355.12135675331, 34405.76070431638, 34503.01632718972, 34591.12338362551, 34663.73172473292, 34710.64157211393, 34811.36066452821, 34891.477478825036, 34987.06155483519, 35065.39121253817, 35146.20641203945, 35211.48361386635, 35298.70378891817, 35368.04395758442, 35434.141797634205, 35469.37618353895, 35557.474605886324, 35632.768027657476, 35688.09160189855, 35739.27909940026, 35795.7392592952, 35881.819433829485, 35941.631198083596, 36014.41856809084, 36080.569507876164, 36143.89932606994, 36206.19346860089, 36263.38580326078, 36305.92160303014, 36368.71374210749, 36422.439406357546, 36473.748247614094, 36504.27633876278, 36555.699734719725, 36605.09758747204, 36666.18784795033, 36699.36919391299, 36752.884151148966, 36805.18067052408, 36864.0766230844, 36916.91764205423, 36941.433118006426, 36993.99231956942, 37037.628940337294]\n"
          ],
          "name": "stdout"
        }
      ]
    },
    {
      "cell_type": "markdown",
      "metadata": {
        "id": "iH774QUhh30k"
      },
      "source": [
        "**Calculating Average User and Movie Rating**<br>\n",
        "The average user and movie ratings are calculated using the dictionaries created in the first step."
      ]
    },
    {
      "cell_type": "code",
      "metadata": {
        "id": "FRn8Ko1Z9RIX"
      },
      "source": [
        "ui = []\n",
        "nj = []\n",
        "matrix = []\n",
        "\n",
        "for i in range(len(test)):\n",
        "  ui.append(user_avg[test[i][0]][0]/user_avg[test[i][0]][1])\n",
        "  nj.append(movie_avg[test[i][1]][0]/movie_avg[test[i][1]][1])\n",
        "  matrix.append((float(test[i][2])))"
      ],
      "execution_count": null,
      "outputs": []
    },
    {
      "cell_type": "markdown",
      "metadata": {
        "id": "DFXnFYgfiMCh"
      },
      "source": [
        "**Calculating Base Line Error**<br>\n",
        "The base line error is calculated using the baseline algorithm."
      ]
    },
    {
      "cell_type": "code",
      "metadata": {
        "colab": {
          "base_uri": "https://localhost:8080/"
        },
        "id": "rBuWgAbI88FK",
        "outputId": "82db4dfc-387d-43e5-c32c-f0d7c341669f"
      },
      "source": [
        "base_error = 0\n",
        "\n",
        "def func_obj(X, a, b):\n",
        "    ui,nj = X\n",
        "    return a*ui+b*nj\n",
        "\n",
        "fit = curve_fit(func_obj, (ui,nj), matrix)\n",
        "alpha = fit[0][0]\n",
        "beta = fit[0][1]\n",
        "\n",
        "for i in range(len(test)):\n",
        "  base_error += ((alpha*ui[i] + beta*nj[i]) - float(test[i][2]))**2\n",
        "\n",
        "print(base_error)"
      ],
      "execution_count": null,
      "outputs": [
        {
          "output_type": "stream",
          "text": [
            "14131.499102815249\n"
          ],
          "name": "stdout"
        }
      ]
    },
    {
      "cell_type": "markdown",
      "metadata": {
        "id": "nAu1dm8eikBS"
      },
      "source": [
        "**Plotting the results**<br>\n",
        "The errors calculated using the test data and the base line error are plotted."
      ]
    },
    {
      "cell_type": "code",
      "metadata": {
        "colab": {
          "base_uri": "https://localhost:8080/",
          "height": 562
        },
        "id": "wFhLQOayB_ak",
        "outputId": "f1f717cc-1dd0-4314-fbbc-6fba167b6734"
      },
      "source": [
        "x = []\n",
        "y = []\n",
        "for k in range(1,100):\n",
        "  x.append(k)\n",
        "  y.append(base_error)\n",
        "  \n",
        "plt.figure(dpi=150)  \n",
        "plt.plot(x, lowrank_error, label = \"Error\")\n",
        "plt.plot(x, y, label = \"Base Algo Error\")\n",
        "  \n",
        "plt.xlabel('K')\n",
        "plt.ylabel('Error')\n",
        "  \n",
        "plt.legend()\n",
        "  \n",
        "plt.show()"
      ],
      "execution_count": null,
      "outputs": [
        {
          "output_type": "display_data",
          "data": {
            "image/png": "[encoded data removed]",
            "text/plain": [
              "<Figure size 900x600 with 1 Axes>"
            ]
          },
          "metadata": {
            "tags": [],
            "needs_background": "light"
          }
        }
      ]
    }
  ]
}