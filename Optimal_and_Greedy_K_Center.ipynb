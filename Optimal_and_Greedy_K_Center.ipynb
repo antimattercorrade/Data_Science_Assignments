{
  "nbformat": 4,
  "nbformat_minor": 0,
  "metadata": {
    "colab": {
      "name": "18110091_Q4.ipynb",
      "provenance": [],
      "collapsed_sections": []
    },
    "kernelspec": {
      "name": "python3",
      "display_name": "Python 3"
    }
  },
  "cells": [
    {
      "cell_type": "markdown",
      "metadata": {
        "id": "lOPD7jRGINT6"
      },
      "source": [
        "**Importing Modules**"
      ]
    },
    {
      "cell_type": "code",
      "metadata": {
        "id": "hqPuwOBQHFgP"
      },
      "source": [
        "import pandas as pd\n",
        "import numpy as np\n",
        "import math\n",
        "from sklearn.preprocessing import MinMaxScaler\n",
        "from IPython.display import display, HTML"
      ],
      "execution_count": null,
      "outputs": []
    },
    {
      "cell_type": "markdown",
      "metadata": {
        "id": "CWdiepuvIWuv"
      },
      "source": [
        "**Distance Function** <br>\n",
        "The function takes the numpy array of `data`, `centers` and `dist` as paramaters. The `data` array contains the scaled credit card data while the `centers` array stores the indices of chosen centers. The `dist` array stores the minimum distance of each point from its nearest cluster center and gets updated on each iteration. The function returns the cost of clustering till the current iteration and the latest chosen center index."
      ]
    },
    {
      "cell_type": "code",
      "metadata": {
        "id": "CXji3aqub2kh"
      },
      "source": [
        "def distance(data,centers,dist):\n",
        "  size = len(data)\n",
        "  index = len(centers) - 1\n",
        "  cost = -1\n",
        "\n",
        "  for i in range(size):\n",
        "    dist[i] = min(dist[i],np.linalg.norm(data[i] - data[centers[index]]))\n",
        "    if(dist[i] > cost):\n",
        "      cost = dist[i]\n",
        "      Ci = i\n",
        "      \n",
        "  return Ci,cost"
      ],
      "execution_count": null,
      "outputs": []
    },
    {
      "cell_type": "markdown",
      "metadata": {
        "id": "inFdljekJk2w"
      },
      "source": [
        "**Greedy K Center** <br>\n",
        "The function takes the numpy array of `cc_data`, `centers` and `k` as paramaters. The loop runs till k centers are chosen by calling the `distance` function for each new center added. An array `dist` is created to store the minimum distance of each point from its nearest cluster center. The `distance` function works on the invariant that the minimum distance of each point to its nearest cluster center either remains same or decreases when a new center is chosen. So in each iteration distances of points to the newly added center are only calculated. "
      ]
    },
    {
      "cell_type": "code",
      "metadata": {
        "id": "CRUUFJ4TQVUi"
      },
      "source": [
        "def kcenter(k,cc_data,centers):\n",
        "  dist = [math.inf]*len(cc_data)\n",
        "\n",
        "  for i in range(k):\n",
        "    Ci,cost = distance(cc_data,centers,dist)\n",
        "    centers.append(Ci)\n",
        "\n",
        "  return centers,cost"
      ],
      "execution_count": null,
      "outputs": []
    },
    {
      "cell_type": "markdown",
      "metadata": {
        "id": "FQHG72S5Kxqg"
      },
      "source": [
        "**Optimal K Center** <br>\n",
        "The function takes the numpy array of `opt_data` and `k` as parameters. For `k=2` and `k=4` we loop over all possible choices of centers and find the choice of centers with least clustering cost. in each iteration of the innermost loop, the distance of each point to the choice of `k` centers is calculated. This is accomplished by calling adding the appropriate center indices to `centers` array and then calling `distance` function on it till `k` centers are chose. If the clustering cost is less than the previously computed costs, the cost and choice of centers are updated.  "
      ]
    },
    {
      "cell_type": "code",
      "metadata": {
        "id": "XKPqwQ3VFiUJ"
      },
      "source": [
        "def optimal(k,opt_data):\n",
        "  size = len(opt_data)\n",
        "  min_cost = math.inf\n",
        "  centers = [0]*k\n",
        "  result = [0]*k\n",
        "\n",
        "  if(k==2):\n",
        "    for i in range(size-1):\n",
        "      for j in range(i+1,size):\n",
        "        dist = [math.inf]*size\n",
        "        centers[0] = i\n",
        "        Ci,cost = distance(opt_data,centers,dist)\n",
        "        centers[1] = j\n",
        "        Ci,cost = distance(opt_data,centers,dist)\n",
        "\n",
        "        if(cost < min_cost):\n",
        "          min_cost = cost\n",
        "          result = centers\n",
        "\n",
        "  elif(k==4):\n",
        "    for i in range(size-3):\n",
        "      for j in range(i+1,size-2):\n",
        "        for k in range(j+1,size-1):\n",
        "          for l in range(k+1,size):\n",
        "            dist = [math.inf]*size\n",
        "            centers[0] = i\n",
        "            Ci,cost = distance(opt_data,centers,dist)\n",
        "            centers[1] = j\n",
        "            Ci,cost = distance(opt_data,centers,dist)\n",
        "            centers[2] = k\n",
        "            Ci,cost = distance(opt_data,centers,dist)\n",
        "            centers[3] = l\n",
        "            Ci,cost = distance(opt_data,centers,dist)\n",
        "\n",
        "            if(cost < min_cost):\n",
        "              min_cost = cost\n",
        "              result = centers\n",
        "\n",
        "  return result,min_cost"
      ],
      "execution_count": null,
      "outputs": []
    },
    {
      "cell_type": "markdown",
      "metadata": {
        "id": "-mngA2foYJhz"
      },
      "source": [
        "**K Center** <br>\n",
        "We first import the data set and scale it using `MinMaxScaler`. The index is set to `CUST_ID`. The `scaler` transforms the dataframe to a numpy array and the first center is chosen randomly. Then the respective calls to greedy k center and optimal k center functions are made and the costs for each clustering are calculated. "
      ]
    },
    {
      "cell_type": "code",
      "metadata": {
        "colab": {
          "base_uri": "https://localhost:8080/",
          "height": 322
        },
        "id": "REBBEOpeKrKF",
        "outputId": "e2e0345f-81d4-44fa-e963-39c757c0ac3c"
      },
      "source": [
        "path = \"https://raw.githubusercontent.com/kushagra-18110091/http_test/main/CC%20GENERAL.csv\"  \n",
        "scaler = MinMaxScaler()\n",
        "\n",
        "cc_data = pd.read_csv(path).fillna(0)\n",
        "cc_data = cc_data.set_index('CUST_ID')\n",
        "cc_data = scaler.fit_transform(cc_data)\n",
        "\n",
        "length = (int)(len(cc_data)/200)\n",
        "\n",
        "k = [2,4,10]\n",
        "values_cc = []\n",
        "values_opt = []\n",
        "\n",
        "for i in k:\n",
        "  centers = []\n",
        "  opt_data = cc_data[np.random.choice(cc_data.shape[0], length, replace=False), :]\n",
        "  centers,opt_cost = optimal(i,opt_data)\n",
        "  \n",
        "  centers = []\n",
        "  centers.append(np.random.choice(range(len(cc_data))))\n",
        "  i = i - 1\n",
        "  centers,greedy_cc = kcenter(i,cc_data,centers)\n",
        "  i = i + 1\n",
        "\n",
        "  centers = []\n",
        "  centers.append(np.random.choice(range(len(opt_data))))\n",
        "  i = i - 1\n",
        "  centers,greedy_opt = kcenter(i,opt_data,centers)\n",
        "  \n",
        "  if(i+1 == 10):\n",
        "    values_cc.append([i+1,greedy_cc,'-','-'])\n",
        "    values_opt.append([i+1,greedy_opt,'-','-'])\n",
        "  else:\n",
        "    values_cc.append([i+1,greedy_cc,opt_cost,greedy_cc/opt_cost])\n",
        "    values_opt.append([i+1,greedy_opt,opt_cost,greedy_opt/opt_cost])\n",
        "\n",
        "print(\"Greedy with Original Data and Optimal with 1/200th of original data\")\n",
        "result_cc = pd.DataFrame(values_cc, columns=[\"K\",\"Greedy\",\"Optimal\",\"Approxiation Ratio\"])\n",
        "display(HTML(result_cc.to_html()))\n",
        "\n",
        "print()\n",
        "print(\"Greedy and Optimal with 1/200th of original data\")\n",
        "result_opt = pd.DataFrame(values_opt, columns=[\"K\",\"Greedy\",\"Optimal\",\"Approxiation Ratio\"])\n",
        "display(HTML(result_opt.to_html()))\n"
      ],
      "execution_count": null,
      "outputs": [
        {
          "output_type": "stream",
          "text": [
            "Greedy with Original Data and Optimal with 1/200th of original data\n"
          ],
          "name": "stdout"
        },
        {
          "output_type": "display_data",
          "data": {
            "text/html": [
              "<table border=\"1\" class=\"dataframe\">\n",
              "  <thead>\n",
              "    <tr style=\"text-align: right;\">\n",
              "      <th></th>\n",
              "      <th>K</th>\n",
              "      <th>Greedy</th>\n",
              "      <th>Optimal</th>\n",
              "      <th>Approxiation Ratio</th>\n",
              "    </tr>\n",
              "  </thead>\n",
              "  <tbody>\n",
              "    <tr>\n",
              "      <th>0</th>\n",
              "      <td>2</td>\n",
              "      <td>2.355714</td>\n",
              "      <td>1.20721</td>\n",
              "      <td>1.95137</td>\n",
              "    </tr>\n",
              "    <tr>\n",
              "      <th>1</th>\n",
              "      <td>4</td>\n",
              "      <td>1.860964</td>\n",
              "      <td>1.12275</td>\n",
              "      <td>1.6575</td>\n",
              "    </tr>\n",
              "    <tr>\n",
              "      <th>2</th>\n",
              "      <td>10</td>\n",
              "      <td>1.405193</td>\n",
              "      <td>-</td>\n",
              "      <td>-</td>\n",
              "    </tr>\n",
              "  </tbody>\n",
              "</table>"
            ],
            "text/plain": [
              "<IPython.core.display.HTML object>"
            ]
          },
          "metadata": {
            "tags": []
          }
        },
        {
          "output_type": "stream",
          "text": [
            "\n",
            "Greedy and Optimal with 1/200th of original data\n"
          ],
          "name": "stdout"
        },
        {
          "output_type": "display_data",
          "data": {
            "text/html": [
              "<table border=\"1\" class=\"dataframe\">\n",
              "  <thead>\n",
              "    <tr style=\"text-align: right;\">\n",
              "      <th></th>\n",
              "      <th>K</th>\n",
              "      <th>Greedy</th>\n",
              "      <th>Optimal</th>\n",
              "      <th>Approxiation Ratio</th>\n",
              "    </tr>\n",
              "  </thead>\n",
              "  <tbody>\n",
              "    <tr>\n",
              "      <th>0</th>\n",
              "      <td>2</td>\n",
              "      <td>1.688159</td>\n",
              "      <td>1.20721</td>\n",
              "      <td>1.3984</td>\n",
              "    </tr>\n",
              "    <tr>\n",
              "      <th>1</th>\n",
              "      <td>4</td>\n",
              "      <td>1.247570</td>\n",
              "      <td>1.12275</td>\n",
              "      <td>1.11117</td>\n",
              "    </tr>\n",
              "    <tr>\n",
              "      <th>2</th>\n",
              "      <td>10</td>\n",
              "      <td>0.718392</td>\n",
              "      <td>-</td>\n",
              "      <td>-</td>\n",
              "    </tr>\n",
              "  </tbody>\n",
              "</table>"
            ],
            "text/plain": [
              "<IPython.core.display.HTML object>"
            ]
          },
          "metadata": {
            "tags": []
          }
        }
      ]
    },
    {
      "cell_type": "markdown",
      "metadata": {
        "id": "38E7lJFmwOCA"
      },
      "source": [
        "The Approximation Ratio is less than 2 when we take the reduced data set for both greedy and optimal solutions. While the ratio comes close to 2 when we take original data set for greedy and reduced data set for optimal. A proper analysis can only be made when the data sets for both the solutions are same. Thus the second scenario gives more accurate approximation ratio. "
      ]
    }
  ]
}